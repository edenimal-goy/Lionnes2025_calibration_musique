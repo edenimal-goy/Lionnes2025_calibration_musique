{
 "cells": [
  {
   "cell_type": "markdown",
   "id": "748694dc",
   "metadata": {},
   "source": [
    "# 🎶 Atelier de calibration de modèle - Tempo & Musique\n",
    "\n",
    "Bienvenue ! 👋  \n",
    "Aujourd’hui, tu vas découvrir comment on peut utiliser des **modèles mathématiques** pour analyser des données... musicales !  \n",
    "Et surtout, tu vas apprendre à **ajuster** un modèle pour qu’il colle le mieux possible à la réalité 🎯\n",
    "\n",
    "---\n",
    "\n",
    "## 🔍 Contexte\n",
    "\n",
    "Dans cet atelier, tu vas manipuler des données simulées représentant le **tempo moyen des chansons** de 1980 à 2020.  \n",
    "Ton objectif : ajuster un modèle linéaire `y = a * x + b` pour qu’il prévoie bien ces tempos au fil du temps.\n"
   ]
  },
  {
   "cell_type": "code",
   "execution_count": null,
   "id": "128efa26",
   "metadata": {},
   "outputs": [],
   "source": [
    "import numpy as np\n",
    "import matplotlib.pyplot as plt\n",
    "import pandas as pd"
   ]
  },
  {
   "cell_type": "markdown",
   "id": "2ec3ab03",
   "metadata": {},
   "source": [
    "## 📦 Étape 1 : Chargement des outils\n",
    "\n",
    "On commence par importer les bibliothèques Python dont on aura besoin :\n",
    "- `numpy` pour les calculs numériques\n",
    "- `matplotlib` pour les graphiques\n",
    "- `pandas` pour manipuler les données facilement\n"
   ]
  },
  {
   "cell_type": "code",
   "execution_count": null,
   "id": "b35f56fb",
   "metadata": {},
   "outputs": [],
   "source": [
    "np.random.seed(42)\n",
    "\n",
    "annees = np.arange(1980, 2021)\n",
    "true_a = 0.3\n",
    "true_b = 90\n",
    "tempos = true_a * annees + true_b + np.random.normal(0, 3, size=len(annees))\n",
    "df = pd.DataFrame({'Année': annees, 'Tempo (BPM)': tempos})\n",
    "df.head()"
   ]
  },
  {
   "cell_type": "markdown",
   "id": "c3464d5c",
   "metadata": {},
   "source": [
    "## 🎼 Étape 2 : Génération des données\n",
    "\n",
    "Ici, on simule un ensemble de données représentant l'évolution du **tempo moyen (en BPM)** des chansons entre 1980 et 2020.\n",
    "\n",
    "Le vrai modèle (caché 👀) est de la forme `y = 0.3 * x + 90`, mais on y ajoute un peu de **bruit aléatoire** pour rendre les données plus réalistes.\n"
   ]
  },
  {
   "cell_type": "code",
   "execution_count": null,
   "id": "60025d52",
   "metadata": {},
   "outputs": [],
   "source": [
    "plt.figure(figsize=(10, 5))\n",
    "plt.scatter(df['Année'], df['Tempo (BPM)'], color='purple')\n",
    "plt.title(\"Évolution du tempo moyen des chansons depuis 1980\")\n",
    "plt.xlabel(\"Année\")\n",
    "plt.ylabel(\"Tempo (BPM)\")\n",
    "plt.grid(True)\n",
    "plt.show()"
   ]
  },
  {
   "cell_type": "code",
   "execution_count": null,
   "id": "ed5918cb",
   "metadata": {},
   "outputs": [],
   "source": [
    "def modele_lineaire(x, a, b):\n",
    "    return a * x + b\n",
    "\n",
    "a_test, b_test = 1.5, 50\n",
    "df['Tempo préd (modèle test)'] = modele_lineaire(df['Année'], a_test, b_test)\n",
    "\n",
    "plt.figure(figsize=(10, 5))\n",
    "plt.scatter(df['Année'], df['Tempo (BPM)'], label=\"Données réelles\", color='purple')\n",
    "plt.plot(df['Année'], df['Tempo préd (modèle test)'], label=\"Modèle (a=1.5, b=50)\", color='orange')\n",
    "plt.title(\"Modèle initial (non calibré)\")\n",
    "plt.xlabel(\"Année\")\n",
    "plt.ylabel(\"Tempo (BPM)\")\n",
    "plt.legend()\n",
    "plt.grid(True)\n",
    "plt.show()"
   ]
  },
  {
   "cell_type": "markdown",
   "id": "db87a989",
   "metadata": {},
   "source": [
    "## 🤖 Étape 3 : Essai d’un premier modèle\n",
    "\n",
    "On essaie un modèle avec des paramètres `a` et `b` choisis un peu au hasard.\n",
    "\n",
    "Est-ce que la courbe colle bien aux points ? Pas vraiment 😅  \n",
    "➡️ Il va falloir **calibrer** notre modèle pour l’améliorer !\n"
   ]
  },
  {
   "cell_type": "code",
   "execution_count": null,
   "id": "0aa7c2b0",
   "metadata": {},
   "outputs": [],
   "source": [
    "a_user = 0.25\n",
    "b_user = 95\n",
    "\n",
    "df['Tempo préd (vous)'] = modele_lineaire(df['Année'], a_user, b_user)\n",
    "\n",
    "plt.figure(figsize=(10, 5))\n",
    "plt.scatter(df['Année'], df['Tempo (BPM)'], label=\"Données réelles\", color='purple')\n",
    "plt.plot(df['Année'], df['Tempo préd (vous)'], label=f\"Votre modèle (a={a_user}, b={b_user})\", color='green')\n",
    "plt.title(\"Calibration manuelle du modèle\")\n",
    "plt.xlabel(\"Année\")\n",
    "plt.ylabel(\"Tempo (BPM)\")\n",
    "plt.legend()\n",
    "plt.grid(True)\n",
    "plt.show()"
   ]
  },
  {
   "cell_type": "code",
   "execution_count": null,
   "id": "f651936d",
   "metadata": {},
   "outputs": [],
   "source": [
    "def erreur_moyenne_reelle_vs_modele(y_reel, y_modele):\n",
    "    return np.mean(np.abs(y_reel - y_modele))\n",
    "\n",
    "erreur = erreur_moyenne_reelle_vs_modele(df['Tempo (BPM)'], df['Tempo préd (vous)'])\n",
    "print(f\"Erreur moyenne de votre modèle : {erreur:.2f} BPM\")"
   ]
  },
  {
   "cell_type": "markdown",
   "id": "67711e08",
   "metadata": {},
   "source": [
    "## 🛠️ Étape 4 : Calibration manuelle\n",
    "\n",
    "À toi de jouer !  \n",
    "Modifie les valeurs de `a_user` et `b_user` pour que la courbe colle au mieux aux données réelles.\n",
    "\n",
    "Essaie plusieurs combinaisons pour minimiser l’écart entre les points et ta courbe.\n"
   ]
  },
  {
   "cell_type": "code",
   "execution_count": null,
   "id": "9d0555e7",
   "metadata": {},
   "outputs": [],
   "source": [
    "df_bruite = df.copy()\n",
    "df_bruite['Tempo bruité'] = df_bruite['Tempo (BPM)'] + np.random.normal(0, 8, size=len(df))\n",
    "\n",
    "plt.figure(figsize=(10, 5))\n",
    "plt.scatter(df_bruite['Année'], df_bruite['Tempo bruité'], label=\"Données bruitées\", color='darkorange')\n",
    "plt.title(\"Challenge : données bruitées 🎯\")\n",
    "plt.xlabel(\"Année\")\n",
    "plt.ylabel(\"Tempo (BPM)\")\n",
    "plt.legend()\n",
    "plt.grid(True)\n",
    "plt.show()"
   ]
  },
  {
   "cell_type": "markdown",
   "id": "5e6fdad4",
   "metadata": {},
   "source": [
    "## 📏 Étape 5 : Mesure de l’erreur\n",
    "\n",
    "On mesure ici l’**écart moyen** entre les valeurs prédites par ton modèle et les vraies données.\n",
    "\n",
    "Plus l’erreur est **petite**, meilleur est ton modèle !\n"
   ]
  },
  {
   "cell_type": "markdown",
   "id": "dc3d0f72",
   "metadata": {},
   "source": [
    "### 🎤 Pourquoi il y a du bruit dans les données ?\n",
    "\n",
    "Dans la vraie vie, les données ne sont jamais parfaites.\n",
    "\n",
    "Voici quelques raisons :\n",
    "- Les mesures peuvent contenir des **erreurs** (instruments imprécis, humains, etc.)\n",
    "- Il existe des **facteurs non pris en compte** par le modèle (ex: genre musical, producteur, humeur du moment…)\n",
    "- Le monde est **complexe et variable** : deux chansons d’une même année ne sont jamais identiques !\n",
    "\n",
    "➡️ On appelle cela du **bruit** : c’est une variation aléatoire qui complique le travail du modèle... mais le rend aussi plus réaliste !"
   ]
  },
  {
   "cell_type": "code",
   "execution_count": null,
   "id": "607bf2f4",
   "metadata": {},
   "outputs": [],
   "source": [
    "a_bruite = 0.3\n",
    "b_bruite = 90\n",
    "\n",
    "df_bruite['Tempo préd'] = modele_lineaire(df_bruite['Année'], a_bruite, b_bruite)\n",
    "\n",
    "plt.figure(figsize=(10, 5))\n",
    "plt.scatter(df_bruite['Année'], df_bruite['Tempo bruité'], label=\"Données bruitées\", color='darkorange')\n",
    "plt.plot(df_bruite['Année'], df_bruite['Tempo préd'], label=f\"Votre modèle (a={a_bruite}, b={b_bruite})\", color='blue')\n",
    "plt.title(\"Votre tentative de calibration sur données bruitées\")\n",
    "plt.xlabel(\"Année\")\n",
    "plt.ylabel(\"Tempo (BPM)\")\n",
    "plt.legend()\n",
    "plt.grid(True)\n",
    "plt.show()\n",
    "\n",
    "erreur_bruite = erreur_moyenne_reelle_vs_modele(df_bruite['Tempo bruité'], df_bruite['Tempo préd'])\n",
    "print(f\"Erreur moyenne sur données bruitées : {erreur_bruite:.2f} BPM\")"
   ]
  },
  {
   "cell_type": "code",
   "execution_count": null,
   "id": "e929261e",
   "metadata": {},
   "outputs": [],
   "source": [
    "x = df['Année'].values\n",
    "y = df['Tempo (BPM)'].values\n",
    "\n",
    "a, b = 0.0, 0.0\n",
    "learning_rate = 1e-4\n",
    "epochs = 500\n",
    "\n",
    "for _ in range(epochs):\n",
    "    y_pred = a * x + b\n",
    "    error = y - y_pred\n",
    "    a += learning_rate * (-2 * np.mean(error * x))\n",
    "    b += learning_rate * (-2 * np.mean(error))\n",
    "\n",
    "print(f\"Paramètres optimisés automatiquement : a = {a:.4f}, b = {b:.4f}\")\n",
    "\n",
    "plt.figure(figsize=(10, 5))\n",
    "plt.scatter(x, y, label=\"Données réelles\", color='purple')\n",
    "plt.plot(x, a * x + b, label=\"Modèle optimisé\", color='red')\n",
    "plt.title(\"Modèle calibré automatiquement\")\n",
    "plt.xlabel(\"Année\")\n",
    "plt.ylabel(\"Tempo (BPM)\")\n",
    "plt.legend()\n",
    "plt.grid(True)\n",
    "plt.show()"
   ]
  },
{
   "cell_type": "markdown",
   "execution_count": null,
   "id": "d99a7140",
   "metadata": {},
   "outputs": [],
   "source": [
    "from IPython.display import Markdown\n",
    "\n",
    "Markdown(\"\"\"\n",
    "### 🔬 Ce que vous venez de faire, je le fais aussi dans ma recherche...\n",
    "\n",
    "Vous avez testé et ajusté un **modèle simple** pour qu’il colle aux **données réelles**.\n",
    "\n",
    "Moi aussi je fais ça ! Mais avec :\n",
    "- des modèles plus complexes (non linéaires),\n",
    "- des incertitudes à gérer,\n",
    "- et des algorithmes puissants pour optimiser les paramètres.\n",
    "\n",
    "👉 Vous venez de découvrir ce qu’est **la calibration** d’un modèle : c’est une étape clé en science des données, en climatologie, en santé, en ingénierie… et en musique aussi ! 🎶\n",
    "\"\"\")"
   ]
  },
  {
   "cell_type": "markdown",
   "id": "3301af23",
   "metadata": {},
   "source": [
    "## ⚙️ Étape 6 : Calibration automatique (optionnelle)\n",
    "\n",
    "Pour aller plus loin : on utilise un **algorithme très simple** (descente de gradient) pour que l’ordinateur trouve automatiquement les meilleurs paramètres `a` et `b`.\n",
    "\n",
    "Tu vas voir que les résultats sont souvent bien meilleurs !\n"
   ]
  }
 ],
 "metadata": {},
 "nbformat": 4,
 "nbformat_minor": 5
}
